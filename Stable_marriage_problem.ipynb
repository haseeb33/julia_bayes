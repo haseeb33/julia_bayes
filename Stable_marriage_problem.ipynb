{
 "cells": [
  {
   "cell_type": "code",
   "execution_count": null,
   "id": "94e9816b-ccc0-4ba8-84d8-dc784af05766",
   "metadata": {
    "tags": []
   },
   "outputs": [],
   "source": [
    "topics_lst = []"
   ]
  },
  {
   "cell_type": "code",
   "execution_count": null,
   "id": "dc0e8b2f-84f7-40b6-9471-7021c1082288",
   "metadata": {},
   "outputs": [],
   "source": [
    "topics_list = pd.DataFrame({'A': [3,4,2,1], 'B': [3,1,4,2], 'C':[2,3,4,1], 'D':[3,2,1,4]})\n",
    "topics_list.index = [\"tp_\"+str(i) for i in range(1,21)]"
   ]
  },
  {
   "cell_type": "code",
   "execution_count": null,
   "id": "b050333e-4527-4554-a34a-4d49cf2d7cef",
   "metadata": {},
   "outputs": [],
   "source": []
  },
  {
   "cell_type": "code",
   "execution_count": null,
   "id": "d230e5d7-fc69-4fde-b161-d3f8abcfb7da",
   "metadata": {},
   "outputs": [],
   "source": []
  },
  {
   "cell_type": "code",
   "execution_count": 2,
   "id": "3bf152da-9308-4e40-b86a-63193ea82700",
   "metadata": {},
   "outputs": [
    {
     "ename": "IndexError",
     "evalue": "list index out of range",
     "output_type": "error",
     "traceback": [
      "\u001b[0;31m---------------------------------------------------------------------------\u001b[0m",
      "\u001b[0;31mIndexError\u001b[0m                                Traceback (most recent call last)",
      "\u001b[0;32m/var/folders/pp/xk4wtc5x62z94qrdxdbv__1h0000gn/T/ipykernel_26186/1609791430.py\u001b[0m in \u001b[0;36m<module>\u001b[0;34m\u001b[0m\n\u001b[1;32m     97\u001b[0m \t\t[0, 1, 2, 3], [0, 1, 2, 3]]\n\u001b[1;32m     98\u001b[0m \u001b[0;34m\u001b[0m\u001b[0m\n\u001b[0;32m---> 99\u001b[0;31m \u001b[0mstableMarriage\u001b[0m\u001b[0;34m(\u001b[0m\u001b[0mprefer\u001b[0m\u001b[0;34m)\u001b[0m\u001b[0;34m\u001b[0m\u001b[0;34m\u001b[0m\u001b[0m\n\u001b[0m\u001b[1;32m    100\u001b[0m \u001b[0;34m\u001b[0m\u001b[0m\n",
      "\u001b[0;32m/var/folders/pp/xk4wtc5x62z94qrdxdbv__1h0000gn/T/ipykernel_26186/1609791430.py\u001b[0m in \u001b[0;36mstableMarriage\u001b[0;34m(prefer)\u001b[0m\n\u001b[1;32m     55\u001b[0m                 \u001b[0mi\u001b[0m \u001b[0;34m=\u001b[0m \u001b[0;36m0\u001b[0m\u001b[0;34m\u001b[0m\u001b[0;34m\u001b[0m\u001b[0m\n\u001b[1;32m     56\u001b[0m                 \u001b[0;32mwhile\u001b[0m \u001b[0mi\u001b[0m \u001b[0;34m<\u001b[0m \u001b[0mN\u001b[0m \u001b[0;32mand\u001b[0m \u001b[0mmFree\u001b[0m\u001b[0;34m[\u001b[0m\u001b[0mm\u001b[0m\u001b[0;34m]\u001b[0m \u001b[0;34m==\u001b[0m \u001b[0;32mFalse\u001b[0m\u001b[0;34m:\u001b[0m\u001b[0;34m\u001b[0m\u001b[0;34m\u001b[0m\u001b[0m\n\u001b[0;32m---> 57\u001b[0;31m                         \u001b[0mw\u001b[0m \u001b[0;34m=\u001b[0m \u001b[0mprefer\u001b[0m\u001b[0;34m[\u001b[0m\u001b[0mm\u001b[0m\u001b[0;34m]\u001b[0m\u001b[0;34m[\u001b[0m\u001b[0mi\u001b[0m\u001b[0;34m]\u001b[0m\u001b[0;34m\u001b[0m\u001b[0;34m\u001b[0m\u001b[0m\n\u001b[0m\u001b[1;32m     58\u001b[0m \u001b[0;34m\u001b[0m\u001b[0m\n\u001b[1;32m     59\u001b[0m                         \u001b[0;31m# The woman of preference is free,\u001b[0m\u001b[0;34m\u001b[0m\u001b[0;34m\u001b[0m\u001b[0m\n",
      "\u001b[0;31mIndexError\u001b[0m: list index out of range"
     ]
    }
   ],
   "source": [
    "# while not all men have pairs\n",
    "while len(waiting_list)<len(man_list):\n",
    "    # man makes proposals\n",
    "    for man in man_list:\n",
    "        if man not in waiting_list:\n",
    "            # each man make proposal to the top women from it's list\n",
    "            women = women_available[man]\n",
    "            best_choice = man_df.loc[man][man_df.loc[man].index.isin(women)].idxmin()\n",
    "            proposals[(man, best_choice)]=(man_df.loc[man][best_choice],\n",
    "                                                 women_df.loc[man][best_choice])\n",
    "    # if women have more than one proposals \n",
    "    # she will choose the best option\n",
    "    overlays = Counter([key[1] for key in proposals.keys()])\n",
    "    # cycle to choose the best options\n",
    "    for women in overlays.keys():\n",
    "        if overlays[women]>1:\n",
    "            # pairs to drop from proposals\n",
    "            pairs_to_drop = sorted({pair: proposals[pair] for pair in proposals.keys() \n",
    "                    if women in pair}.items(), \n",
    "                   key=lambda x: x[1][1]\n",
    "                  )[1:]\n",
    "            # if man was rejected by woman\n",
    "            # there is no pint for him to make proposal \n",
    "            # second time to the same woman\n",
    "            for p_to_drop in pairs_to_drop:\n",
    "                del proposals[p_to_drop[0]]\n",
    "                _women = copy(women_available[p_to_drop[0][0]])\n",
    "                _women.remove(p_to_drop[0][1])\n",
    "                women_available[p_to_drop[0][0]] = _women\n",
    "    # man who successfully created pairs must be added to the waiting list \n",
    "    waiting_list = [man[0] for man in proposals.keys()]\n",
    "    # update counter\n",
    "    count+=1"
   ]
  },
  {
   "cell_type": "code",
   "execution_count": null,
   "id": "1a17f7a0-45fc-4efb-aa8e-504d1458e2e8",
   "metadata": {},
   "outputs": [],
   "source": []
  }
 ],
 "metadata": {
  "kernelspec": {
   "display_name": "Python 3 (ipykernel)",
   "language": "python",
   "name": "python3"
  },
  "language_info": {
   "codemirror_mode": {
    "name": "ipython",
    "version": 3
   },
   "file_extension": ".py",
   "mimetype": "text/x-python",
   "name": "python",
   "nbconvert_exporter": "python",
   "pygments_lexer": "ipython3",
   "version": "3.9.7"
  }
 },
 "nbformat": 4,
 "nbformat_minor": 5
}
