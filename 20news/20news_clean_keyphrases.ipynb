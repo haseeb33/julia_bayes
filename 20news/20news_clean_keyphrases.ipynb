{
 "cells": [
  {
   "cell_type": "code",
   "execution_count": 4,
   "id": "eaf7102c-ab8c-4126-910d-7b10b582073b",
   "metadata": {},
   "outputs": [],
   "source": [
    "import json\n",
    "from tqdm import tqdm\n",
    "with open(\"kp/20news_keyphrases.json\", \"r\") as f:\n",
    "    lines = f.readlines()\n",
    "pred_data = [json.loads(l) for l in lines]"
   ]
  },
  {
   "cell_type": "code",
   "execution_count": 5,
   "id": "2fa6c613-0185-45e8-8c9a-2dcc0212dcc7",
   "metadata": {},
   "outputs": [
    {
     "data": {
      "text/plain": [
       "{'id': 1,\n",
       " 'pred': ['apple',\n",
       "  'on/off',\n",
       "  'if they to at&t',\n",
       "  '<unk>',\n",
       "  'object <unk> oriented',\n",
       "  'if',\n",
       "  'at&t',\n",
       "  '<unk> they']}"
      ]
     },
     "execution_count": 5,
     "metadata": {},
     "output_type": "execute_result"
    }
   ],
   "source": [
    "pred_data[1]"
   ]
  },
  {
   "cell_type": "code",
   "execution_count": 22,
   "id": "b53d3413-4761-4be6-a05e-af71a7645856",
   "metadata": {},
   "outputs": [],
   "source": [
    "all_keyphrases = {}\n",
    "total_keyphrases = 0\n",
    "for i in pred_data:\n",
    "    for j in i[\"pred\"]:\n",
    "        total_keyphrases+=1\n",
    "        if j not in all_keyphrases:\n",
    "            all_keyphrases[j] = 1\n",
    "        else:\n",
    "            all_keyphrases[j]= all_keyphrases[j]+1"
   ]
  },
  {
   "cell_type": "code",
   "execution_count": 23,
   "id": "a0b0baaa-bbeb-478b-8ba3-0c0d8befe633",
   "metadata": {},
   "outputs": [
    {
     "data": {
      "text/plain": [
       "243357"
      ]
     },
     "execution_count": 23,
     "metadata": {},
     "output_type": "execute_result"
    }
   ],
   "source": [
    "total_keyphrases"
   ]
  },
  {
   "cell_type": "code",
   "execution_count": 24,
   "id": "68670420-d58e-4cc4-a210-8f5bad0e1cb7",
   "metadata": {},
   "outputs": [
    {
     "data": {
      "text/plain": [
       "[('<unk>', 7100),\n",
       " ('', 5154),\n",
       " ('design', 1017),\n",
       " ('cybernetics', 767),\n",
       " ('systems', 619),\n",
       " ('algorithms', 597),\n",
       " ('use', 534),\n",
       " ('timing', 509),\n",
       " ('performance', 500),\n",
       " ('<unk> <unk>', 466)]"
      ]
     },
     "execution_count": 24,
     "metadata": {},
     "output_type": "execute_result"
    }
   ],
   "source": [
    "sorted_lst = list(sorted(all_keyphrases.items(), key=lambda item: item[1], reverse=True))\n",
    "sorted_lst[:10]"
   ]
  },
  {
   "cell_type": "code",
   "execution_count": 25,
   "id": "993b5e47-a5c6-4a75-9a7b-1b7a0166cff3",
   "metadata": {},
   "outputs": [
    {
     "data": {
      "text/plain": [
       "110495"
      ]
     },
     "execution_count": 25,
     "metadata": {},
     "output_type": "execute_result"
    }
   ],
   "source": [
    "len(sorted_lst)"
   ]
  },
  {
   "cell_type": "code",
   "execution_count": 26,
   "id": "b110cd33-9347-4e21-b2fc-7799f68a8766",
   "metadata": {},
   "outputs": [],
   "source": [
    "junk_kps = ['']"
   ]
  },
  {
   "cell_type": "code",
   "execution_count": 13,
   "id": "5d13361e-94ea-47e2-a63d-30d58faaf338",
   "metadata": {},
   "outputs": [],
   "source": [
    "#sorted_lst.remove(('', 5154))"
   ]
  },
  {
   "cell_type": "code",
   "execution_count": 27,
   "id": "36969a5e-23e7-4e93-9541-a4396d09b231",
   "metadata": {},
   "outputs": [
    {
     "name": "stdout",
     "output_type": "stream",
     "text": [
      "12107\n"
     ]
    }
   ],
   "source": [
    "#Remove all keyphrases have <unk> in it\n",
    "for i in sorted_lst:\n",
    "    if '<unk>' in i[0]:\n",
    "        #sorted_lst.remove(i)\n",
    "        junk_kps.append(i[0])\n",
    "print(len(junk_kps))"
   ]
  },
  {
   "cell_type": "code",
   "execution_count": 28,
   "id": "24fb7f45-a6ad-494d-9844-3a49726c43c5",
   "metadata": {},
   "outputs": [],
   "source": [
    "with open(\"../stopwords.txt\", \"r\") as f:\n",
    "    lines = f.readlines()\n",
    "stopwords = [l.replace(\"\\n\", \"\") for l in lines]\n",
    "specialchars = ['!', '”', '#', '$', '%', '&', '’', '(', ')', '*', '+', ',', '-', '.', '/', ':', ';', '<', '>', '=', '@', '?', '[', ']', '^', '_', '{', '}', '|', '~']"
   ]
  },
  {
   "cell_type": "code",
   "execution_count": 29,
   "id": "65d56ff6-8e34-4b4b-9f08-811fbe7af26b",
   "metadata": {},
   "outputs": [
    {
     "name": "stdout",
     "output_type": "stream",
     "text": [
      "12685\n"
     ]
    }
   ],
   "source": [
    "#Remove all stopwords keyphrases and specialchal keyphrases or have less than 3 char word (mostly junk words)\n",
    "for i in sorted_lst:\n",
    "    if i[0] in stopwords or i[0] in specialchars or len(i[0]) < 3:\n",
    "        #sorted_lst.remove(i)\n",
    "        junk_kps.append(i[0])\n",
    "#print(len(sorted_lst))\n",
    "print(len(junk_kps))"
   ]
  },
  {
   "cell_type": "code",
   "execution_count": 30,
   "id": "ceb1d59a-d0a4-41fa-8981-c5cb59e9a13c",
   "metadata": {},
   "outputs": [
    {
     "data": {
      "text/plain": [
       "12685"
      ]
     },
     "execution_count": 30,
     "metadata": {},
     "output_type": "execute_result"
    }
   ],
   "source": [
    "len(junk_kps)"
   ]
  },
  {
   "cell_type": "code",
   "execution_count": 34,
   "id": "76951c83-2732-48be-abf0-920748a3d99f",
   "metadata": {},
   "outputs": [],
   "source": [
    "all_keyphrases_clean = {}\n",
    "total_keyphrases_clean = 0\n",
    "for i in pred_data:\n",
    "    for j in i[\"pred\"]:\n",
    "        if j not in junk_kps:\n",
    "            total_keyphrases_clean+=1\n",
    "            if j not in all_keyphrases_clean:\n",
    "                all_keyphrases_clean[j] = 1\n",
    "            else:\n",
    "                all_keyphrases_clean[j]= all_keyphrases_clean[j]+1"
   ]
  },
  {
   "cell_type": "code",
   "execution_count": 35,
   "id": "8ce0edcf-2014-4343-b960-19b5a8d91a72",
   "metadata": {},
   "outputs": [
    {
     "data": {
      "text/plain": [
       "199860"
      ]
     },
     "execution_count": 35,
     "metadata": {},
     "output_type": "execute_result"
    }
   ],
   "source": [
    "total_keyphrases_clean"
   ]
  },
  {
   "cell_type": "code",
   "execution_count": 36,
   "id": "5fd80dc9-0604-4d61-bd89-b50d0db43ee4",
   "metadata": {},
   "outputs": [],
   "source": [
    "new_pred_data = []\n",
    "for i in pred_data:\n",
    "    temp = []\n",
    "    for j in i[\"pred\"]:\n",
    "        if j not in junk_kps:\n",
    "            temp.append(j)\n",
    "    new_pred_data.append({'id':i['id'], 'pred':temp})"
   ]
  },
  {
   "cell_type": "code",
   "execution_count": 37,
   "id": "af57ce7a-61d7-42b6-a602-e467149dc25f",
   "metadata": {},
   "outputs": [],
   "source": [
    "textfile = open(\"kp/20news_keyphrases_clean.json\", \"w\")\n",
    "for element in new_pred_data:\n",
    "    textfile.write(json.dumps(element) + '\\n')\n",
    "textfile.close()"
   ]
  },
  {
   "cell_type": "markdown",
   "id": "976cfebc-4c8b-4ec3-a3ac-6ec20a41d8ee",
   "metadata": {},
   "source": [
    "# Check newly created file"
   ]
  },
  {
   "cell_type": "code",
   "execution_count": 6,
   "id": "6511510c-afef-452f-9456-41460ef71b43",
   "metadata": {},
   "outputs": [],
   "source": [
    "with open(\"kp/20news_keyphrases_clean.json\", \"r\") as f:\n",
    "    lines = f.readlines()\n",
    "pred_data = [json.loads(l) for l in lines]"
   ]
  },
  {
   "cell_type": "code",
   "execution_count": 7,
   "id": "43746fab-d621-49c3-87f8-6814b0fa804e",
   "metadata": {},
   "outputs": [
    {
     "data": {
      "text/plain": [
       "{'id': 1, 'pred': ['apple', 'on/off', 'if they to at&t', 'at&t']}"
      ]
     },
     "execution_count": 7,
     "metadata": {},
     "output_type": "execute_result"
    }
   ],
   "source": [
    "pred_data[1]"
   ]
  },
  {
   "cell_type": "code",
   "execution_count": 8,
   "id": "18fc18bf-17ca-4913-b7df-4b5660cd45ea",
   "metadata": {},
   "outputs": [
    {
     "data": {
      "text/plain": [
       "18296"
      ]
     },
     "execution_count": 8,
     "metadata": {},
     "output_type": "execute_result"
    }
   ],
   "source": [
    "len(pred_data)"
   ]
  },
  {
   "cell_type": "markdown",
   "id": "4f39da57-6499-4a0c-af07-75a179c2ff14",
   "metadata": {},
   "source": [
    "# Create new for last 10,000 docs only"
   ]
  },
  {
   "cell_type": "code",
   "execution_count": 41,
   "id": "9c7f3d20-1080-4b3e-860a-0a383c02b54c",
   "metadata": {},
   "outputs": [],
   "source": [
    "with open(\"kp/20news_keyphrases_clean.json\", \"r\") as f:\n",
    "    lines = f.readlines()\n",
    "pred_data = [json.loads(l) for l in lines]"
   ]
  },
  {
   "cell_type": "code",
   "execution_count": 42,
   "id": "e9d511cb-fb5c-408f-8864-4719305b0bba",
   "metadata": {},
   "outputs": [],
   "source": [
    "textfile = open(\"kp/20news_keyphrases_clean_last_10000.json\", \"w\")\n",
    "for element in pred_data[-10000:]:\n",
    "    textfile.write(json.dumps(element) + '\\n')\n",
    "textfile.close()"
   ]
  },
  {
   "cell_type": "code",
   "execution_count": null,
   "id": "e4304101-5aaa-4b10-9c0f-20c54452eb6e",
   "metadata": {},
   "outputs": [],
   "source": [
    "# Clean and last 10,000 clean keyphrases files are done correctly."
   ]
  },
  {
   "cell_type": "markdown",
   "id": "70dca822-5137-4110-a210-c9164c4c66f3",
   "metadata": {},
   "source": [
    "# Create new for last 5,000 docs only"
   ]
  },
  {
   "cell_type": "code",
   "execution_count": 2,
   "id": "f1117ef7-0088-4691-9fb1-aaf9ad895496",
   "metadata": {},
   "outputs": [],
   "source": [
    "import json\n",
    "with open(\"kp/20news_keyphrases_clean.json\", \"r\") as f:\n",
    "    lines = f.readlines()\n",
    "pred_data = [json.loads(l) for l in lines]"
   ]
  },
  {
   "cell_type": "code",
   "execution_count": 3,
   "id": "5d3c7a2d-f0bc-48b9-9141-f354758fbe4a",
   "metadata": {},
   "outputs": [],
   "source": [
    "textfile = open(\"kp/20news_keyphrases_clean_last_5000.json\", \"w\")\n",
    "for element in pred_data[-5000:]:\n",
    "    textfile.write(json.dumps(element) + '\\n')\n",
    "textfile.close()"
   ]
  },
  {
   "cell_type": "markdown",
   "id": "4f036df2-38d4-489a-9c22-4e4fa4feb116",
   "metadata": {},
   "source": [
    "# Create new for last 2,000 docs only"
   ]
  },
  {
   "cell_type": "code",
   "execution_count": 9,
   "id": "f867dfdd-c9c0-4660-91c1-22763e868937",
   "metadata": {},
   "outputs": [],
   "source": [
    "import json\n",
    "with open(\"kp/20news_keyphrases_clean.json\", \"r\") as f:\n",
    "    lines = f.readlines()\n",
    "pred_data = [json.loads(l) for l in lines]"
   ]
  },
  {
   "cell_type": "code",
   "execution_count": 10,
   "id": "38bb9250-e2fd-49d4-906f-0f04c735759d",
   "metadata": {},
   "outputs": [],
   "source": [
    "textfile = open(\"kp/20news_keyphrases_clean_last_2000.json\", \"w\")\n",
    "for element in pred_data[-2000:]:\n",
    "    textfile.write(json.dumps(element) + '\\n')\n",
    "textfile.close()"
   ]
  },
  {
   "cell_type": "code",
   "execution_count": null,
   "id": "39221d16-b66d-4f4a-bcce-baf5f4ef5fd0",
   "metadata": {},
   "outputs": [],
   "source": []
  }
 ],
 "metadata": {
  "kernelspec": {
   "display_name": "Python 3 (ipykernel)",
   "language": "python",
   "name": "python3"
  },
  "language_info": {
   "codemirror_mode": {
    "name": "ipython",
    "version": 3
   },
   "file_extension": ".py",
   "mimetype": "text/x-python",
   "name": "python",
   "nbconvert_exporter": "python",
   "pygments_lexer": "ipython3",
   "version": "3.9.7"
  }
 },
 "nbformat": 4,
 "nbformat_minor": 5
}
