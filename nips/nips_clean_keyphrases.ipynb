{
 "cells": [
  {
   "cell_type": "markdown",
   "id": "5f66f5b3-5c32-45fa-a9cd-75074841f013",
   "metadata": {},
   "source": [
    "# Clean Keyphrases and save again"
   ]
  },
  {
   "cell_type": "code",
   "execution_count": null,
   "id": "f38f802b-f73b-4b1d-8cc2-dda0d3b192db",
   "metadata": {},
   "outputs": [],
   "source": [
    "import json\n",
    "with open(\"simplified_last_1000_keyphrases.json\", \"r\") as f:\n",
    "    lines = f.readlines()\n",
    "pred_data = [json.loads(l) for l in lines]"
   ]
  },
  {
   "cell_type": "code",
   "execution_count": null,
   "id": "672edf8f-ca34-41e4-87b1-64fdc603868d",
   "metadata": {},
   "outputs": [],
   "source": [
    "pred_data[1]"
   ]
  },
  {
   "cell_type": "code",
   "execution_count": null,
   "id": "15a97480-40c2-42e0-9ac9-e4aa99abdd04",
   "metadata": {},
   "outputs": [],
   "source": [
    "all_keyphrases = {}\n",
    "total_keyphrases = 0\n",
    "for i in pred_data:\n",
    "    for j in i[\"pred\"]:\n",
    "        total_keyphrases+=1\n",
    "        if j not in all_keyphrases:\n",
    "            all_keyphrases[j] = 1\n",
    "        else:\n",
    "            all_keyphrases[j]= all_keyphrases[j]+1"
   ]
  },
  {
   "cell_type": "code",
   "execution_count": null,
   "id": "02056d7b-5bb2-4e26-987c-9457be4c5b0d",
   "metadata": {},
   "outputs": [],
   "source": [
    "total_keyphrases"
   ]
  },
  {
   "cell_type": "code",
   "execution_count": null,
   "id": "b41014e6-499f-414c-a37b-d69c53f4578f",
   "metadata": {},
   "outputs": [],
   "source": [
    "sorted_lst = list(sorted(all_keyphrases.items(), key=lambda item: item[1], reverse=True))\n",
    "sorted_lst[:10]"
   ]
  },
  {
   "cell_type": "code",
   "execution_count": null,
   "id": "f2737566-f1ec-4a94-a078-d2c9e97eb720",
   "metadata": {},
   "outputs": [],
   "source": [
    "# Remove junk keyphrases appear more than twice\n",
    "junk_kps = ['', '<unk>', 'can', 'we', ', <unk>', '. <unk>', 'its', 'has', '1', 'and', 'paper', '( <unk>', 'use', ')', 'which', ',', 'are', 'be', 'that', 'for', 'a', '(', 'in', 'more', 'a <unk>', 'is', 'it', 'o', '<unk> <unk>', '2', 'of', 'this', 'on <unk> line learning', 'to', 'is <unk> <unk>', 'the <unk>', 'will', 'thus', 'the', 'in <unk> network', 'on . <unk>', '1 . 2 . 2', 'a . <unk>', '1 . 2 . 2 . 2 <unk>', 'in we', 'our', 'most', 'since', 'also', 'self', 'give', 'on <unk> line algorithms', 'an', 'given', '1 <unk> <unk>', 'we <unk> divergence', 'however', '3', 'paper . 0', ') methods', 'with', 'compared', 'both', 'for for for for for for for', '1 . 2 . 2 . 2', '1 . 2 . 2 . 2 . 2 <unk>', 'on', '+', 'but', 'show <unk> through', 'on <unk> line training', 'as a', 'for <unk>', 'on . <unk> risk', '<s>', 'is . <unk>', 'have', 'been', 'give a', 'b <unk> trees', '<unk> . <unk>', 'each', 'set', 'that <unk> <unk>', '6', 'that in', 'does']\n"
   ]
  },
  {
   "cell_type": "code",
   "execution_count": null,
   "id": "e364a44c-af53-4652-b9fa-ab659245e9b0",
   "metadata": {},
   "outputs": [],
   "source": [
    "sorted_lst[1200:1215]"
   ]
  },
  {
   "cell_type": "code",
   "execution_count": null,
   "id": "d31f97d9-2d29-4c9b-b3a0-991bb074b0a0",
   "metadata": {},
   "outputs": [],
   "source": [
    "a = [i[1] for i in sorted_lst[:1215]]\n",
    "sum(a) # Total collective number of keyphrases appearing more than once. "
   ]
  },
  {
   "cell_type": "code",
   "execution_count": null,
   "id": "297c59e1-7d84-4924-b6d7-e6e04d86b745",
   "metadata": {},
   "outputs": [],
   "source": [
    "all_keyphrases_clean = {}\n",
    "total_keyphrases_clean = 0\n",
    "for i in pred_data:\n",
    "    for j in i[\"pred\"]:\n",
    "        if j not in junk_kps:\n",
    "            total_keyphrases_clean+=1\n",
    "            if j not in all_keyphrases_clean:\n",
    "                all_keyphrases_clean[j] = 1\n",
    "            else:\n",
    "                all_keyphrases_clean[j]= all_keyphrases_clean[j]+1"
   ]
  },
  {
   "cell_type": "code",
   "execution_count": null,
   "id": "394aad9a-c513-4ee1-9d4f-21721f1b546b",
   "metadata": {},
   "outputs": [],
   "source": [
    "total_keyphrases_clean"
   ]
  },
  {
   "cell_type": "code",
   "execution_count": null,
   "id": "95d1bce9-3db6-43a6-a718-0a359d11ac78",
   "metadata": {},
   "outputs": [],
   "source": [
    "new_pred_data = []\n",
    "for i in pred_data:\n",
    "    temp = []\n",
    "    for j in i[\"pred\"]:\n",
    "        if j not in junk_kps:\n",
    "            temp.append(j)\n",
    "    new_pred_data.append({'id':i['id'], 'pred':temp})"
   ]
  },
  {
   "cell_type": "code",
   "execution_count": null,
   "id": "2cf3697b-5d6b-4eee-901e-22ceb9de8d83",
   "metadata": {},
   "outputs": [],
   "source": [
    "textfile = open(\"simplified_last_1000_keyphrases_clean.json\", \"w\")\n",
    "for element in new_pred_data:\n",
    "    textfile.write(json.dumps(element) + '\\n')\n",
    "textfile.close()"
   ]
  }
 ],
 "metadata": {
  "kernelspec": {
   "display_name": "Python 3 (ipykernel)",
   "language": "python",
   "name": "python3"
  },
  "language_info": {
   "codemirror_mode": {
    "name": "ipython",
    "version": 3
   },
   "file_extension": ".py",
   "mimetype": "text/x-python",
   "name": "python",
   "nbconvert_exporter": "python",
   "pygments_lexer": "ipython3",
   "version": "3.9.7"
  }
 },
 "nbformat": 4,
 "nbformat_minor": 5
}
