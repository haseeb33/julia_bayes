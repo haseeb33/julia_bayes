{
 "cells": [
  {
   "cell_type": "code",
   "execution_count": null,
   "id": "c400db28-a9a7-4cd1-849c-bd37cbebe124",
   "metadata": {},
   "outputs": [],
   "source": [
    "#!pip install sentence-transformers==0.3.3"
   ]
  },
  {
   "cell_type": "code",
   "execution_count": null,
   "id": "0fe7545a-d61d-48e2-bbbd-b1774066df2e",
   "metadata": {},
   "outputs": [],
   "source": [
    "from sentence_transformers import SentenceTransformer\n",
    "import numpy as np\n",
    "import torch\n",
    "from torch import nn"
   ]
  },
  {
   "cell_type": "code",
   "execution_count": null,
   "id": "99ab1b25-2df0-4f7b-a945-36bc09881e34",
   "metadata": {},
   "outputs": [],
   "source": [
    "import json\n",
    "with open(\"simplified_last_1000_keyphrases.json\", \"r\") as f:\n",
    "    lines = f.readlines()\n",
    "pred_data = [json.loads(l) for l in lines]"
   ]
  },
  {
   "cell_type": "code",
   "execution_count": null,
   "id": "37bf1eb2-09f7-4d56-8d71-7a898a57b337",
   "metadata": {},
   "outputs": [],
   "source": [
    "#use_docs = 1000\n",
    "#pred_data = pred_data[-use_docs:]"
   ]
  },
  {
   "cell_type": "code",
   "execution_count": null,
   "id": "145fe25b-5200-4bfb-b1ad-c56b25a6768e",
   "metadata": {},
   "outputs": [],
   "source": [
    "all_keyphrases = {}\n",
    "total_keyphrases = 0\n",
    "for i in pred_data:\n",
    "    for j in i[\"pred\"]:\n",
    "        total_keyphrases+=1\n",
    "        if j not in all_keyphrases:\n",
    "            all_keyphrases[j] = 1\n",
    "        else:\n",
    "            all_keyphrases[j]= all_keyphrases[j]+1"
   ]
  },
  {
   "cell_type": "code",
   "execution_count": null,
   "id": "8494b8c9-b1ce-4b8d-9a0c-d07451d25ff9",
   "metadata": {},
   "outputs": [],
   "source": [
    "total_keyphrases"
   ]
  },
  {
   "cell_type": "code",
   "execution_count": null,
   "id": "e760673e-e748-4e01-b48a-c36e25c29c67",
   "metadata": {},
   "outputs": [],
   "source": [
    "len(all_keyphrases.keys())"
   ]
  },
  {
   "cell_type": "code",
   "execution_count": null,
   "id": "0424e572-ef77-4af7-87d8-bef5ec3201ec",
   "metadata": {},
   "outputs": [],
   "source": [
    "sorted_lst = list(sorted(all_keyphrases.items(), key=lambda item: item[1], reverse=True))\n",
    "sorted_lst[:10]"
   ]
  },
  {
   "cell_type": "code",
   "execution_count": null,
   "id": "fd253e75-21ae-4813-a661-b056f3e6fbe8",
   "metadata": {},
   "outputs": [],
   "source": [
    "def top_keyphrases_of_topic(topic_ids):\n",
    "    keyphrases = {}\n",
    "    total_keyphrases = 0\n",
    "    for idx, i in enumerate(pred_data):\n",
    "        if idx in topic_ids:\n",
    "            for j in i[\"pred\"]:\n",
    "                total_keyphrases+=1\n",
    "                if j not in keyphrases:\n",
    "                    keyphrases[j] = 1\n",
    "                else:\n",
    "                    keyphrases[j]= keyphrases[j]+1\n",
    "    print(\"total keyphrases are: \", total_keyphrases)\n",
    "    print(\"Unique nummber of keyphrases are:\", len(keyphrases.keys()))\n",
    "    return list(sorted(keyphrases.items(), key=lambda item: item[1], reverse=True))"
   ]
  },
  {
   "cell_type": "code",
   "execution_count": null,
   "id": "526fe215-9edf-4b62-950a-672738489c3e",
   "metadata": {},
   "outputs": [],
   "source": [
    "#Topic 1\n",
    "topic = [547, 226, 571, 792, 964, 916, 166, 193, 165, 662, 143, 98, 790, 649, 555, 590, 172, 561, 732, 200, 311, 67, 391, 86, 144, 553, 344, 951, 243, 960, 517, 467, 638, 475, 372, 179, 62, 413, 47, 198, 152, 442, 771, 786, 624, 256, 25, 39, 768, 986, 958, 535, 306, 515, 276, 831, 895, 825, 453, 390, 543, 45, 815, 558, 377, 666, 400, 548, 923, 50, 303, 929, 979, 6, 866, 23, 63, 937, 576, 419, 796, 877, 180, 915, 336, 239, 162, 909, 119, 738, 892, 8, 697, 944, 14, 500, 38, 801, 975, 873]\n",
    "topic = [t - 1 for t in topic]\n",
    "topic_keyphrases = top_keyphrases_of_topic(topic)\n",
    "#print(topic_keyphrases[:50])"
   ]
  },
  {
   "cell_type": "code",
   "execution_count": null,
   "id": "c6761519-2ba3-415b-8dca-6daafbd72341",
   "metadata": {},
   "outputs": [],
   "source": [
    "model_path = '../phrase-bert-model'\n",
    "model = SentenceTransformer(model_path)"
   ]
  },
  {
   "cell_type": "code",
   "execution_count": null,
   "id": "706d1ed8-7bfb-440e-81d3-b7d1af48b5fb",
   "metadata": {},
   "outputs": [],
   "source": [
    "keyphrase_embs = model.encode([i[0] for i in topic_keyphrases])"
   ]
  },
  {
   "cell_type": "code",
   "execution_count": null,
   "id": "030be62f-86ce-476c-9676-7d79c057b690",
   "metadata": {},
   "outputs": [],
   "source": [
    "similarity_matrix = np.empty((len(keyphrase_embs), len(keyphrase_embs)), dtype=float)\n",
    "cos_sim = nn.CosineSimilarity(dim=0)\n",
    "for row_idx, i in enumerate(keyphrase_embs):\n",
    "    for col_idx, j in enumerate(keyphrase_embs):\n",
    "        similarity_matrix[row_idx][col_idx] =  round(cos_sim(torch.tensor(i), torch.tensor(j)).item(), 2)"
   ]
  },
  {
   "cell_type": "code",
   "execution_count": null,
   "id": "e7bee41f-6383-44ec-8798-5457ac317226",
   "metadata": {},
   "outputs": [],
   "source": [
    "a = similarity_matrix > 0.7"
   ]
  },
  {
   "cell_type": "code",
   "execution_count": null,
   "id": "b70bf4d1-d364-4eb7-8f35-76b8936f4452",
   "metadata": {},
   "outputs": [],
   "source": [
    "import matplotlib.pyplot as plt\n",
    "plt.imshow(a)"
   ]
  },
  {
   "cell_type": "markdown",
   "id": "a2b796a2-9640-4a32-acef-d1222267e3fa",
   "metadata": {},
   "source": [
    "# All keyphrases to json file"
   ]
  },
  {
   "cell_type": "code",
   "execution_count": null,
   "id": "5e2bf27e-865b-4c7d-8361-421db939cda7",
   "metadata": {},
   "outputs": [],
   "source": [
    "keyphrase_embedding = {}\n",
    "for keyphrase, freq in all_keyphrases.items():\n",
    "    keyphrase_embedding[keyphrase] = model.encode([keyphrase]).tolist()"
   ]
  },
  {
   "cell_type": "code",
   "execution_count": null,
   "id": "c3a5ebbf-fa29-422d-adec-a78bba5d76be",
   "metadata": {},
   "outputs": [],
   "source": [
    "import json\n",
    "with open('1000_docs_keyphrase_embedding.json', 'w') as fp:\n",
    "    json.dump(keyphrase_embedding, fp)"
   ]
  },
  {
   "cell_type": "markdown",
   "id": "5d362c17-fce1-4190-8f88-61d1197e3be0",
   "metadata": {},
   "source": [
    "## How to load keyphrases from json file"
   ]
  },
  {
   "cell_type": "code",
   "execution_count": null,
   "id": "91b6427b-dc26-4cde-aa98-041f5eb6d792",
   "metadata": {},
   "outputs": [],
   "source": [
    "import json\n",
    "with open('1000_docs_keyphrase_embedding.json') as json_file:\n",
    "    kp = json.load(json_file)"
   ]
  }
 ],
 "metadata": {
  "kernelspec": {
   "display_name": "Python 3 (ipykernel)",
   "language": "python",
   "name": "python3"
  },
  "language_info": {
   "codemirror_mode": {
    "name": "ipython",
    "version": 3
   },
   "file_extension": ".py",
   "mimetype": "text/x-python",
   "name": "python",
   "nbconvert_exporter": "python",
   "pygments_lexer": "ipython3",
   "version": "3.9.7"
  }
 },
 "nbformat": 4,
 "nbformat_minor": 5
}
